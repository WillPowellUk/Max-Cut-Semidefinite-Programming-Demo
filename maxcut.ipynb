{
 "cells": [
  {
   "cell_type": "markdown",
   "metadata": {},
   "source": [
    "## Goemans-Williamson Max-Cut Algorithm \n"
   ]
  },
  {
   "cell_type": "code",
   "execution_count": null,
   "metadata": {},
   "outputs": [],
   "source": [
    "import cvxpy as cp\n",
    "\n",
    "def Goemans_Williamson_max_cut(edges):\n",
    "    # find number of nodes in max cut graph\n",
    "    num_of_nodes = max(max(edge) for edge in edges) + 1\n",
    "\n",
    "    # Create a symmetric matrix variable\n",
    "    X = cp.Variable((num_of_nodes, num_of_nodes), symmetric=True)\n",
    "\n",
    "    # Constraints\n",
    "    constraints = [X >> 0]  # Declare matrix X to be positive semidefinite\n",
    "    constraints += [X[i, i] == 1 for i in range(num_of_nodes)]  # Since we want unit vectors, set diagonals to 1\n",
    "\n",
    "    # Objective function (Q)\n",
    "    objective = cp.Maximize(sum(0.5 * (1 - X[i, j]) for i, j in edges))\n",
    "\n",
    "    # Solve problem based on objective and constraints\n",
    "    prob = cp.Problem(objective, constraints)\n",
    "    prob.solve()\n",
    "    X_solution = X.value\n",
    "\n",
    "\n",
    "    # Finding the sqrt of the matrix X produces the vectors of the nodes given by the relaxed problem (P)\n",
    "    x_projected = sp.linalg.sqrtm(X_solution)\n",
    "\n",
    "    # Generate a random hyperplane\n",
    "    u = np.random.randn(num_of_nodes)\n",
    "\n",
    "    # Project onto the hyperplane and classify\n",
    "    cut = np.sign(x_projected @ u)\n",
    "    \n",
    "    # cut should not have any imaginary component, so no data is lost here\n",
    "    return cut.real"
   ]
  }
 ],
 "metadata": {
  "kernelspec": {
   "display_name": "Python 3",
   "language": "python",
   "name": "python3"
  },
  "language_info": {
   "name": "python",
   "version": "3.11.6"
  }
 },
 "nbformat": 4,
 "nbformat_minor": 2
}
